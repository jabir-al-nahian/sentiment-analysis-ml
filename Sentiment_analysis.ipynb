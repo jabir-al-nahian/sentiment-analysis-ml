{
  "nbformat": 4,
  "nbformat_minor": 0,
  "metadata": {
    "colab": {
      "provenance": [],
      "include_colab_link": true
    },
    "kernelspec": {
      "name": "python3",
      "display_name": "Python 3"
    }
  },
  "cells": [
    {
      "cell_type": "markdown",
      "metadata": {
        "id": "view-in-github",
        "colab_type": "text"
      },
      "source": [
        "<a href=\"https://colab.research.google.com/github/jabir-al-nahian/sentiment-analysis-ml/blob/main/Sentiment_analysis.ipynb\" target=\"_parent\"><img src=\"https://colab.research.google.com/assets/colab-badge.svg\" alt=\"Open In Colab\"/></a>"
      ]
    },
    {
      "cell_type": "code",
      "metadata": {
        "id": "5kLt0i11yqtU",
        "colab": {
          "base_uri": "https://localhost:8080/"
        },
        "outputId": "0d5669ed-f09c-453e-f644-55ef655e0022"
      },
      "source": [
        "from google.colab import drive\n",
        "drive.mount('/content/drive')"
      ],
      "execution_count": null,
      "outputs": [
        {
          "output_type": "stream",
          "name": "stdout",
          "text": [
            "Drive already mounted at /content/drive; to attempt to forcibly remount, call drive.mount(\"/content/drive\", force_remount=True).\n"
          ]
        }
      ]
    },
    {
      "cell_type": "markdown",
      "metadata": {
        "id": "8fowsr_BdpNO"
      },
      "source": [
        "#Libraries"
      ]
    },
    {
      "cell_type": "code",
      "metadata": {
        "id": "IT-FRKrbdrqz"
      },
      "source": [
        "import numpy as np\n",
        "import pandas as pd\n",
        "import matplotlib.pyplot as plt\n",
        "%matplotlib inline\n",
        "import seaborn as sns\n",
        "import re,json,nltk\n",
        "from sklearn.preprocessing import LabelEncoder\n",
        "from sklearn.feature_extraction.text import TfidfVectorizer\n",
        "from sklearn.model_selection import train_test_split\n",
        "from sklearn.metrics import classification_report,accuracy_score,precision_score,recall_score,f1_score\n",
        "from tensorflow.keras.preprocessing.text import Tokenizer\n",
        "path ='/content/drive/MyDrive/Shorna/'\n",
        "stopwords_list = path+'bangla_stopwords.txt'\n",
        "class color: # Text style\n",
        "   PURPLE = '\\033[95m'\n",
        "   CYAN = '\\033[96m'\n",
        "   DARKCYAN = '\\033[36m'\n",
        "   BLUE = '\\033[94m'\n",
        "   GREEN = '\\033[92m'\n",
        "   YELLOW = '\\033[93m'\n",
        "   RED = '\\033[91m'\n",
        "   BOLD = '\\033[1m'\n",
        "   UNDERLINE = '\\033[4m'\n",
        "   END = '\\033[0m'"
      ],
      "execution_count": null,
      "outputs": []
    },
    {
      "cell_type": "code",
      "metadata": {
        "id": "EEdD0SgzOUII"
      },
      "source": [],
      "execution_count": null,
      "outputs": []
    },
    {
      "cell_type": "markdown",
      "metadata": {
        "id": "LbFfm0MPeG4Y"
      },
      "source": [
        "#Dataset Preparation"
      ]
    },
    {
      "cell_type": "code",
      "metadata": {
        "id": "jd8aTisTPViu"
      },
      "source": [
        "df = pd.read_csv(path+'data.csv',encoding='UTF-8')"
      ],
      "execution_count": null,
      "outputs": []
    },
    {
      "cell_type": "code",
      "metadata": {
        "colab": {
          "base_uri": "https://localhost:8080/",
          "height": 424
        },
        "id": "FH8AeZunPWSu",
        "outputId": "773630dc-157b-454a-f4a9-66354ac8ba00"
      },
      "source": [
        "df"
      ],
      "execution_count": null,
      "outputs": [
        {
          "output_type": "execute_result",
          "data": {
            "text/html": [
              "<div>\n",
              "<style scoped>\n",
              "    .dataframe tbody tr th:only-of-type {\n",
              "        vertical-align: middle;\n",
              "    }\n",
              "\n",
              "    .dataframe tbody tr th {\n",
              "        vertical-align: top;\n",
              "    }\n",
              "\n",
              "    .dataframe thead th {\n",
              "        text-align: right;\n",
              "    }\n",
              "</style>\n",
              "<table border=\"1\" class=\"dataframe\">\n",
              "  <thead>\n",
              "    <tr style=\"text-align: right;\">\n",
              "      <th></th>\n",
              "      <th>comment</th>\n",
              "      <th>sentiment</th>\n",
              "    </tr>\n",
              "  </thead>\n",
              "  <tbody>\n",
              "    <tr>\n",
              "      <th>0</th>\n",
              "      <td>ভালোই তো সিনামার সাথে পাহাড় পর্বত দেখা ফ্রি কর...</td>\n",
              "      <td>criticism</td>\n",
              "    </tr>\n",
              "    <tr>\n",
              "      <th>1</th>\n",
              "      <td>কোনো কাহিনী খুঁজে না পাওয়া আমার মন</td>\n",
              "      <td>sad</td>\n",
              "    </tr>\n",
              "    <tr>\n",
              "      <th>2</th>\n",
              "      <td>বাপ্পি এই ছবির জন্য যথাযথ</td>\n",
              "      <td>motivation</td>\n",
              "    </tr>\n",
              "    <tr>\n",
              "      <th>3</th>\n",
              "      <td>সেরা অভিনেতা বাপ্পি চৌধুরী</td>\n",
              "      <td>happy</td>\n",
              "    </tr>\n",
              "    <tr>\n",
              "      <th>4</th>\n",
              "      <td>আগের দিনের মুভি গুলাই সেরা ছিল</td>\n",
              "      <td>motivation</td>\n",
              "    </tr>\n",
              "    <tr>\n",
              "      <th>...</th>\n",
              "      <td>...</td>\n",
              "      <td>...</td>\n",
              "    </tr>\n",
              "    <tr>\n",
              "      <th>2001</th>\n",
              "      <td>দেখবো দেখবো এত দিন দেখি নি আজ দেখে অনেক ক্লান্...</td>\n",
              "      <td>sad</td>\n",
              "    </tr>\n",
              "    <tr>\n",
              "      <th>2002</th>\n",
              "      <td>কোটি কোটি বক্তদের চোখের জল এসেছ এই মনপুরা মুভি...</td>\n",
              "      <td>compliment</td>\n",
              "    </tr>\n",
              "    <tr>\n",
              "      <th>2003</th>\n",
              "      <td>ছবিটাতে পুরো সময় জুড়েই ভালো লাগা ভালোবাসা ছিলো</td>\n",
              "      <td>happy</td>\n",
              "    </tr>\n",
              "    <tr>\n",
              "      <th>2004</th>\n",
              "      <td>অসহায়দের সবাই প্রয়োজনে ব্যাবহার করে, প্রয়োজন শ...</td>\n",
              "      <td>sad</td>\n",
              "    </tr>\n",
              "    <tr>\n",
              "      <th>2005</th>\n",
              "      <td>ছবিটাতে পুরো সময় জুড়েই ভালো লাগা ভালোবাসা ছিলো</td>\n",
              "      <td>happy</td>\n",
              "    </tr>\n",
              "  </tbody>\n",
              "</table>\n",
              "<p>2006 rows × 2 columns</p>\n",
              "</div>"
            ],
            "text/plain": [
              "                                                comment   sentiment\n",
              "0     ভালোই তো সিনামার সাথে পাহাড় পর্বত দেখা ফ্রি কর...   criticism\n",
              "1                    কোনো কাহিনী খুঁজে না পাওয়া আমার মন         sad\n",
              "2                             বাপ্পি এই ছবির জন্য যথাযথ  motivation\n",
              "3                            সেরা অভিনেতা বাপ্পি চৌধুরী       happy\n",
              "4                        আগের দিনের মুভি গুলাই সেরা ছিল  motivation\n",
              "...                                                 ...         ...\n",
              "2001  দেখবো দেখবো এত দিন দেখি নি আজ দেখে অনেক ক্লান্...         sad\n",
              "2002  কোটি কোটি বক্তদের চোখের জল এসেছ এই মনপুরা মুভি...  compliment\n",
              "2003   ছবিটাতে পুরো সময় জুড়েই ভালো লাগা ভালোবাসা ছিলো       happy\n",
              "2004  অসহায়দের সবাই প্রয়োজনে ব্যাবহার করে, প্রয়োজন শ...         sad\n",
              "2005   ছবিটাতে পুরো সময় জুড়েই ভালো লাগা ভালোবাসা ছিলো       happy\n",
              "\n",
              "[2006 rows x 2 columns]"
            ]
          },
          "metadata": {},
          "execution_count": 14
        }
      ]
    },
    {
      "cell_type": "code",
      "metadata": {
        "id": "0LuAApeNmsF_",
        "colab": {
          "base_uri": "https://localhost:8080/",
          "height": 327
        },
        "outputId": "0a24404a-5043-47de-adfb-401284513b85"
      },
      "source": [
        "sns.set(font_scale=1.4)\n",
        "df['sentiment'].value_counts().plot(kind='barh', figsize=(6, 4))\n",
        "plt.xlabel(\"Number of Comments\", labelpad=12)\n",
        "plt.ylabel(\"Sentiment Class\", labelpad=12)\n",
        "plt.yticks(rotation = 45)\n",
        "plt.title(\"Dataset Distribution\", y=1.02);"
      ],
      "execution_count": null,
      "outputs": [
        {
          "output_type": "display_data",
          "data": {
            "image/png": "[encoded data removed]",
            "text/plain": [
              "<Figure size 432x288 with 1 Axes>"
            ]
          },
          "metadata": {}
        }
      ]
    },
    {
      "cell_type": "code",
      "metadata": {
        "id": "B_cQb9MOfIb4",
        "colab": {
          "base_uri": "https://localhost:8080/"
        },
        "outputId": "b49c94bc-7198-4b5d-de1d-3d8ad4985627"
      },
      "source": [
        "# print some unprocessed reviews\n",
        "sample_df = [10,100,150,200,220,330,400,550]\n",
        "for i in sample_df:\n",
        "      print(df.comment[i],'\\n','Sentiment:-- ',df.sentiment[i],'\\n')"
      ],
      "execution_count": null,
      "outputs": [
        {
          "output_type": "stream",
          "name": "stdout",
          "text": [
            "বাপ্পি ভাই এরকম সিনেমায় অভিনয় করবে,আমি জীবনে কল্পনাও করিনি এরকম বাজে সিনেমায় অন্তত বাপ্পিকে মানাচ্ছে না বাপ্পি ভাই আশা করি নেক্স টাইম এরকম ছবিতে সাইন করবেন না \n",
            " Sentiment:--  motivation \n",
            "\n",
            "শাকিব খানের এই ছবি গুলো অনেক ভালো লাগে \n",
            " Sentiment:--  happy \n",
            "\n",
            "ছবিটা আমার মন ছুয়ে গেছে,আরফিন শূভ ভাইয়ের পুরস্কার পাওয়া উচিত বলে আমি মনে করি \n",
            " Sentiment:--  happy \n",
            "\n",
            "আমি কি লিখব,হারিয়ে ফেলেছি সব।তবে খাবারের অভাবে কেমন যন্ত্রণা পায় সেটা \n",
            "দেখলাম।আশা রাখি দুনিয়াতে কেউ যেন খাবারের অভাবে মারা না যায়,,,,,আমার দেখা\n",
            " সেরা ছ \n",
            " Sentiment:--  happy \n",
            "\n",
            "হে আল্লাহ তুমি আমার চোখ খুলে দিয়েছ আমি আর কখনোই ভাত/খাবার অপচয় করবনা \n",
            " Sentiment:--  sad \n",
            "\n",
            "আমি মনে করি এই এশিয়ার মধ্যে সবদিকেই সালমান এগিয়ে  \n",
            " Sentiment:--  compliment \n",
            "\n",
            "এসব ছবি যতো দেখি ততোটাই ভালো লাগে \n",
            " Sentiment:--  compliment \n",
            "\n",
            "সত্যিই একজন অভিনেতা মান্না ভাই যার অভিনয় দেখলে চোখের পানি ধরে রাখা যায় না \n",
            " Sentiment:--  sad \n",
            "\n"
          ]
        }
      ]
    },
    {
      "cell_type": "markdown",
      "metadata": {
        "id": "P_9Dt_CRfdez"
      },
      "source": [
        "#Data Cleaning"
      ]
    },
    {
      "cell_type": "code",
      "metadata": {
        "id": "8-fQhDVnffoX"
      },
      "source": [
        "# Data cleaning function\n",
        "def process_comments(comment):\n",
        "    comment = re.sub('[^\\u0980-\\u09FF]',' ',str(comment)) #removing unnecessary punctuation\n",
        "    return comment"
      ],
      "execution_count": null,
      "outputs": []
    },
    {
      "cell_type": "code",
      "metadata": {
        "id": "5VSrSJ1zgPTv",
        "colab": {
          "base_uri": "https://localhost:8080/"
        },
        "outputId": "e0bbc240-9f92-4f4e-dd1b-63465ee1c600"
      },
      "source": [
        "# Apply the function into the dataframe\n",
        "df['cleaned'] = df['comment'].apply(process_comments)\n",
        "\n",
        "# print some cleaned reviews from the dataset\n",
        "sample_df = [10,100,150,200,220,330,400,550]\n",
        "for i in sample_df:\n",
        "     print('Original:\\n',df.comment[i],'\\nCleaned:\\n',\n",
        "           df.cleaned[i],'\\n','Sentiment:-- ',df.sentiment[i],'\\n')"
      ],
      "execution_count": null,
      "outputs": [
        {
          "output_type": "stream",
          "name": "stdout",
          "text": [
            "Original:\n",
            " বাপ্পি ভাই এরকম সিনেমায় অভিনয় করবে,আমি জীবনে কল্পনাও করিনি এরকম বাজে সিনেমায় অন্তত বাপ্পিকে মানাচ্ছে না বাপ্পি ভাই আশা করি নেক্স টাইম এরকম ছবিতে সাইন করবেন না \n",
            "Cleaned:\n",
            " বাপ্পি ভাই এরকম সিনেমায় অভিনয় করবে আমি জীবনে কল্পনাও করিনি এরকম বাজে সিনেমায় অন্তত বাপ্পিকে মানাচ্ছে না বাপ্পি ভাই আশা করি নেক্স টাইম এরকম ছবিতে সাইন করবেন না \n",
            " Sentiment:--  motivation \n",
            "\n",
            "Original:\n",
            " শাকিব খানের এই ছবি গুলো অনেক ভালো লাগে \n",
            "Cleaned:\n",
            " শাকিব খানের এই ছবি গুলো অনেক ভালো লাগে \n",
            " Sentiment:--  happy \n",
            "\n",
            "Original:\n",
            " ছবিটা আমার মন ছুয়ে গেছে,আরফিন শূভ ভাইয়ের পুরস্কার পাওয়া উচিত বলে আমি মনে করি \n",
            "Cleaned:\n",
            " ছবিটা আমার মন ছুয়ে গেছে আরফিন শূভ ভাইয়ের পুরস্কার পাওয়া উচিত বলে আমি মনে করি \n",
            " Sentiment:--  happy \n",
            "\n",
            "Original:\n",
            " আমি কি লিখব,হারিয়ে ফেলেছি সব।তবে খাবারের অভাবে কেমন যন্ত্রণা পায় সেটা \n",
            "দেখলাম।আশা রাখি দুনিয়াতে কেউ যেন খাবারের অভাবে মারা না যায়,,,,,আমার দেখা\n",
            " সেরা ছ \n",
            "Cleaned:\n",
            " আমি কি লিখব হারিয়ে ফেলেছি সব তবে খাবারের অভাবে কেমন যন্ত্রণা পায় সেটা  দেখলাম আশা রাখি দুনিয়াতে কেউ যেন খাবারের অভাবে মারা না যায়     আমার দেখা  সেরা ছ \n",
            " Sentiment:--  happy \n",
            "\n",
            "Original:\n",
            " হে আল্লাহ তুমি আমার চোখ খুলে দিয়েছ আমি আর কখনোই ভাত/খাবার অপচয় করবনা \n",
            "Cleaned:\n",
            " হে আল্লাহ তুমি আমার চোখ খুলে দিয়েছ আমি আর কখনোই ভাত খাবার অপচয় করবনা \n",
            " Sentiment:--  sad \n",
            "\n",
            "Original:\n",
            " আমি মনে করি এই এশিয়ার মধ্যে সবদিকেই সালমান এগিয়ে  \n",
            "Cleaned:\n",
            " আমি মনে করি এই এশিয়ার মধ্যে সবদিকেই সালমান এগিয়ে  \n",
            " Sentiment:--  compliment \n",
            "\n",
            "Original:\n",
            " এসব ছবি যতো দেখি ততোটাই ভালো লাগে \n",
            "Cleaned:\n",
            " এসব ছবি যতো দেখি ততোটাই ভালো লাগে \n",
            " Sentiment:--  compliment \n",
            "\n",
            "Original:\n",
            " সত্যিই একজন অভিনেতা মান্না ভাই যার অভিনয় দেখলে চোখের পানি ধরে রাখা যায় না \n",
            "Cleaned:\n",
            " সত্যিই একজন অভিনেতা মান্না ভাই যার অভিনয় দেখলে চোখের পানি ধরে রাখা যায় না \n",
            " Sentiment:--  sad \n",
            "\n"
          ]
        }
      ]
    },
    {
      "cell_type": "markdown",
      "metadata": {
        "id": "x_G4vHGsjyXt"
      },
      "source": [
        "##Remove Low lenght data"
      ]
    },
    {
      "cell_type": "code",
      "metadata": {
        "id": "U_l7GWutj1gu",
        "colab": {
          "base_uri": "https://localhost:8080/"
        },
        "outputId": "99788a6d-9c36-4b54-dd42-60e5b5e43fe1"
      },
      "source": [
        "# Length of each Reveiws\n",
        "df['length'] = df['cleaned'].apply(lambda x:len(x.split()))\n",
        "# Remove the reviews with least words\n",
        "dataset = df.loc[df.length>2]\n",
        "dataset = df.reset_index(drop = True)\n",
        "print(\"After Cleaning:\",\"\\nRemoved {} Small Reviews\".format(len(df)-len(dataset)),\n",
        "      \"\\nTotal Reviews:\",len(dataset))"
      ],
      "execution_count": null,
      "outputs": [
        {
          "output_type": "stream",
          "name": "stdout",
          "text": [
            "After Cleaning: \n",
            "Removed 0 Small Reviews \n",
            "Total Reviews: 2006\n"
          ]
        }
      ]
    },
    {
      "cell_type": "markdown",
      "metadata": {
        "id": "LDC0c6EHhnY2"
      },
      "source": [
        "#Dataset Summary"
      ]
    },
    {
      "cell_type": "code",
      "metadata": {
        "id": "0gvw8gwkhqPQ",
        "colab": {
          "base_uri": "https://localhost:8080/"
        },
        "outputId": "b4dec4ee-aba7-4c6b-9b54-90a5989f810f"
      },
      "source": [
        "def data_summary(dataset):\n",
        "\n",
        "    \"\"\"\n",
        "    This function will print the summary of the reviews and words distribution in the dataset.\n",
        "\n",
        "    Args:\n",
        "        dataset: list of cleaned sentences\n",
        "\n",
        "    Returns:\n",
        "        Number of documnets per class: int\n",
        "        Number of words per class: int\n",
        "        Number of unique words per class: int\n",
        "    \"\"\"\n",
        "    documents = []\n",
        "    words = []\n",
        "    u_words = []\n",
        "    total_u_words = [word.strip().lower() for t in list(dataset.cleaned) for word in t.strip().split()]\n",
        "    class_label= [k for k,v in dataset.sentiment.value_counts().to_dict().items()]\n",
        "  # find word list\n",
        "    for label in class_label:\n",
        "        word_list = [word.strip().lower() for t in list(dataset[dataset.sentiment==label].cleaned) for word in t.strip().split()]\n",
        "        counts = dict()\n",
        "        for word in word_list:\n",
        "                counts[word] = counts.get(word, 0)+1\n",
        "        # sort the dictionary of word list\n",
        "        ordered = sorted(counts.items(), key= lambda item: item[1],reverse = True)\n",
        "        # Documents per class\n",
        "        documents.append(len(list(dataset[dataset.sentiment==label].cleaned)))\n",
        "        # Total Word per class\n",
        "        words.append(len(word_list))\n",
        "        # Unique words per class\n",
        "        u_words.append(len(np.unique(word_list)))\n",
        "\n",
        "        print(\"\\nClass Name : \",label)\n",
        "        print(\"Number of Documents:{}\".format(len(list(dataset[dataset.sentiment==label].cleaned))))\n",
        "        print(\"Number of Words:{}\".format(len(word_list)))\n",
        "        print(\"Number of Unique Words:{}\".format(len(np.unique(word_list))))\n",
        "        print(\"Most Frequent Words:\\n\")\n",
        "        for k,v in ordered[:10]:\n",
        "              print(\"{}\\t{}\".format(k,v))\n",
        "    print(\"Total Number of Unique Words:{}\".format(len(np.unique(total_u_words))))\n",
        "\n",
        "    return documents,words,u_words,class_label\n",
        "\n",
        "#call the fucntion\n",
        "documents,words,u_words,class_names = data_summary(dataset)\n"
      ],
      "execution_count": null,
      "outputs": [
        {
          "output_type": "stream",
          "name": "stdout",
          "text": [
            "\n",
            "Class Name :  compliment\n",
            "Number of Documents:734\n",
            "Number of Words:7868\n",
            "Number of Unique Words:2075\n",
            "Most Frequent Words:\n",
            "\n",
            "ছবি\t163\n",
            "অভিনয়\t138\n",
            "অসাধারণ\t122\n",
            "এই\t122\n",
            "সুন্দর\t108\n",
            "অনেক\t104\n",
            "মুভি\t103\n",
            "না\t95\n",
            "ভালো\t90\n",
            "আর\t80\n",
            "\n",
            "Class Name :  happy\n",
            "Number of Documents:524\n",
            "Number of Words:5087\n",
            "Number of Unique Words:1560\n",
            "Most Frequent Words:\n",
            "\n",
            "ভালো\t121\n",
            "অনেক\t118\n",
            "ছবি\t112\n",
            "আমার\t108\n",
            "এই\t92\n",
            "মুভি\t60\n",
            "সুন্দর\t54\n",
            "লাগে\t53\n",
            "খুব\t51\n",
            "অসাধারণ\t49\n",
            "\n",
            "Class Name :  sad\n",
            "Number of Documents:506\n",
            "Number of Words:6686\n",
            "Number of Unique Words:1957\n",
            "Most Frequent Words:\n",
            "\n",
            "না\t159\n",
            "এই\t117\n",
            "পানি\t100\n",
            "আর\t89\n",
            "দেখে\t84\n",
            "অনেক\t81\n",
            "মুভি\t74\n",
            "চোখের\t71\n",
            "ছবি\t69\n",
            "খুব\t53\n",
            "\n",
            "Class Name :  motivation\n",
            "Number of Documents:132\n",
            "Number of Words:1609\n",
            "Number of Unique Words:768\n",
            "Most Frequent Words:\n",
            "\n",
            "ছবি\t30\n",
            "এই\t27\n",
            "অনেক\t25\n",
            "মুভি\t22\n",
            "না\t21\n",
            "ভালো\t20\n",
            "জন্য\t16\n",
            "চাই\t16\n",
            "আমার\t16\n",
            "কিছু\t16\n",
            "\n",
            "Class Name :  criticism\n",
            "Number of Documents:108\n",
            "Number of Words:1076\n",
            "Number of Unique Words:573\n",
            "Most Frequent Words:\n",
            "\n",
            "না\t23\n",
            "ছবি\t23\n",
            "মুভি\t20\n",
            "আর\t20\n",
            "ভালো\t18\n",
            "কি\t14\n",
            "নায়ক\t12\n",
            "কে\t12\n",
            "সাথে\t11\n",
            "সিনেমা\t10\n",
            "Total Number of Unique Words:4307\n"
          ]
        }
      ]
    },
    {
      "cell_type": "markdown",
      "metadata": {
        "id": "HWKTj1zQjRPj"
      },
      "source": [
        "#Dataset Summary Visualization"
      ]
    },
    {
      "cell_type": "code",
      "metadata": {
        "id": "SnjIpYyNjYJR",
        "colab": {
          "base_uri": "https://localhost:8080/",
          "height": 375
        },
        "outputId": "d7eec10c-e209-4981-b4dd-6c8139500fa9"
      },
      "source": [
        "data_matrix = pd.DataFrame({'Total Documents':documents,\n",
        "                            'Total Words':words,\n",
        "                            'Unique Words':u_words,\n",
        "                            'Class Names':class_names})\n",
        "df = pd.melt(data_matrix, id_vars=\"Class Names\", var_name=\"Category\", value_name=\"Values\")\n",
        "plt.figure(figsize=(6, 4))\n",
        "ax = plt.subplot()\n",
        "\n",
        "sns.barplot(data=df,x='Class Names', y='Values' ,hue='Category')\n",
        "ax.set_xlabel('Class Names')\n",
        "ax.set_title('Data Statistics')\n",
        "\n",
        "ax.xaxis.set_ticklabels(class_names, rotation=45);"
      ],
      "execution_count": null,
      "outputs": [
        {
          "output_type": "display_data",
          "data": {
            "image/png": "[encoded data removed]",
            "text/plain": [
              "<Figure size 432x288 with 1 Axes>"
            ]
          },
          "metadata": {}
        }
      ]
    },
    {
      "cell_type": "markdown",
      "metadata": {
        "id": "aFulAOWCjjIl"
      },
      "source": [
        "#Comment Lenght Distribution"
      ]
    },
    {
      "cell_type": "code",
      "metadata": {
        "id": "y5J5qlgrjneI",
        "colab": {
          "base_uri": "https://localhost:8080/",
          "height": 367
        },
        "outputId": "b2209ba0-44f1-4191-f995-a8d1b5d508db"
      },
      "source": [
        "# Calculate the Review of each of the Review\n",
        "dataset['ReviewLength'] = dataset.cleaned.apply(lambda x:len(x.split()))\n",
        "frequency = dict()\n",
        "for i in dataset.ReviewLength:\n",
        "    frequency[i] = frequency.get(i, 0)+1\n",
        "\n",
        "plt.bar(frequency.keys(), frequency.values(), color =\"b\")\n",
        "plt.xlim(1, 135)\n",
        "# in this notbook color is not working but it should work.\n",
        "plt.xlabel('Lenght of the Texts')\n",
        "plt.ylabel('Frequency')\n",
        "plt.title('Length-Frequency Distribution')\n",
        "plt.show()\n",
        "print(f\"Maximum Length of a review: {max(dataset.ReviewLength)}\")\n",
        "print(f\"Minimum Length of a review: {min(dataset.ReviewLength)}\")\n",
        "print(f\"Average Length of a reviews: {round(np.mean(dataset.ReviewLength),0)}\")"
      ],
      "execution_count": null,
      "outputs": [
        {
          "output_type": "display_data",
          "data": {
            "image/png": "[encoded data removed]",
            "text/plain": [
              "<Figure size 432x288 with 1 Axes>"
            ]
          },
          "metadata": {}
        },
        {
          "output_type": "stream",
          "name": "stdout",
          "text": [
            "Maximum Length of a review: 62\n",
            "Minimum Length of a review: 1\n",
            "Average Length of a reviews: 11.0\n"
          ]
        }
      ]
    },
    {
      "cell_type": "markdown",
      "metadata": {
        "id": "MeIyz5P2rTvt"
      },
      "source": [
        "# Take only Positive and Negative Class for Model Building"
      ]
    },
    {
      "cell_type": "markdown",
      "metadata": {
        "id": "bPafojBokoaH"
      },
      "source": [
        "##Lable Encoding and Dataset Splitting"
      ]
    },
    {
      "cell_type": "code",
      "metadata": {
        "id": "UiuB4eZBktny"
      },
      "source": [
        "                                      #==================================================\n",
        "                                       ################# Label Encoding Function #########\n",
        "                                       #==================================================\n",
        "\n",
        "def label_encoding(sentiment,bool):\n",
        "    \"\"\"\n",
        "    This function will return the encoded labels in array format.\n",
        "\n",
        "    Args:\n",
        "        sentiment: series of class names(str)\n",
        "        bool: boolean (True or False)\n",
        "\n",
        "    Returns:\n",
        "        labels: numpy array\n",
        "    \"\"\"\n",
        "    le = LabelEncoder()\n",
        "    le.fit(sentiment)\n",
        "    encoded_labels = le.transform(sentiment)\n",
        "    labels = np.array(encoded_labels) # Converting into numpy array\n",
        "    class_names =le.classes_ ## Define the class names again\n",
        "    if bool == True:\n",
        "        print(\"\\n\\t\\t\\t===== Label Encoding =====\",\"\\nClass Names:-->\",le.classes_)\n",
        "        for i in sample_data:\n",
        "            print(sentiment[i],' ', encoded_labels[i],'\\n')\n",
        "\n",
        "    return labels\n",
        "\n",
        "\n",
        "\n",
        "                           #===========================================================\n",
        "                           ################# Dataset Splitting Function ###############\n",
        "                           #===========================================================\n",
        "\n",
        "def dataset_split(feature_space,sentiment):\n",
        "    \"\"\"\n",
        "    This function will return the splitted (80%-20%) feature vector .\n",
        "\n",
        "    Args:\n",
        "        feature_space: calcuated feature vector (sparse matrix)\n",
        "        sentiment: encoded lables (array)\n",
        "\n",
        "    Returns:\n",
        "        X_train: training feature vector (sparse matrix)\n",
        "        X_test : testing feature vector (sparse matrix)\n",
        "        y_train: training encoded labels (array)\n",
        "        y_test : testing encoded labels (array)\n",
        "    \"\"\"\n",
        "\n",
        "    X_train,X_test,y_train,y_test = train_test_split(feature_space,sentiment,train_size = 0.9,\n",
        "                                                  test_size = 0.1,random_state =0)\n",
        "    print(\"Feature Size :======>\",X_train.shape[1])\n",
        "    print(\"\\nDataset Distribution:\\n\")\n",
        "    print(\"\\tSet Name\",\"\\t\\tSize\")\n",
        "    print(\"\\t========\\t\\t======\")\n",
        "\n",
        "    print(\"\\tFull\\t\\t\\t\",feature_space.shape[0],\n",
        "        \"\\n\\tTraining\\t\\t\",X_train.shape[0],\n",
        "        \"\\n\\tTest\\t\\t\\t\",X_test.shape[0])\n",
        "\n",
        "    return X_train,X_test,y_train,y_test\n"
      ],
      "execution_count": null,
      "outputs": []
    },
    {
      "cell_type": "code",
      "metadata": {
        "id": "Gq0wplXVrfm0"
      },
      "source": [
        "dataset.cleaned = dataset.cleaned.apply(lambda x:x.replace('\\n',' '))"
      ],
      "execution_count": null,
      "outputs": []
    },
    {
      "cell_type": "markdown",
      "metadata": {
        "id": "0CL612JzczVo"
      },
      "source": [
        "#**Model Building Using Machine Learning**"
      ]
    },
    {
      "cell_type": "markdown",
      "metadata": {
        "id": "UnEDFTd0kdzx"
      },
      "source": [
        "##Feature Extraction Using TF-IDF"
      ]
    },
    {
      "cell_type": "code",
      "metadata": {
        "id": "5XTcv1Uyui5Q"
      },
      "source": [
        "                                            #======================================\n",
        "                                            ##### Unigram Tf-idf value calculation\n",
        "                                            #======================================\n",
        "\n",
        "def calc_gram_tfidf(reviews,gram):\n",
        "    \"\"\"\n",
        "    This function will return the tf-idf value of the respective gram features .\n",
        "\n",
        "    Args:\n",
        "        reviews: a list of cleaned reviews\n",
        "\n",
        "    Returns:\n",
        "        tfidf: a instance of TfidfVectorizer\n",
        "        X : Unigram Feature Vector (sparse matrix)\n",
        "    \"\"\"\n",
        "    tfidf = TfidfVectorizer(ngram_range=gram,use_idf=True,tokenizer=lambda x: x.split())\n",
        "    X = tfidf.fit_transform(reviews)\n",
        "\n",
        "    return tfidf,X\n"
      ],
      "execution_count": null,
      "outputs": []
    },
    {
      "cell_type": "code",
      "metadata": {
        "id": "p9MTZ5g7mUj3"
      },
      "source": [
        "from sklearn.linear_model import LogisticRegression\n",
        "from sklearn.tree import DecisionTreeClassifier\n",
        "from sklearn.ensemble import RandomForestClassifier\n",
        "from sklearn.naive_bayes import MultinomialNB\n",
        "from sklearn.neighbors import KNeighborsClassifier\n",
        "from sklearn.svm import SVC\n",
        "from sklearn.linear_model import SGDClassifier\n",
        "from sklearn.metrics import classification_report,accuracy_score,precision_score,recall_score,f1_score\n",
        "from sklearn.metrics import roc_curve, roc_auc_score\n",
        "from sklearn.metrics import average_precision_score,roc_auc_score, roc_curve, precision_recall_curve\n"
      ],
      "execution_count": null,
      "outputs": []
    },
    {
      "cell_type": "code",
      "metadata": {
        "id": "Bv62bKnXmdkr"
      },
      "source": [
        "                                              #============================================\n",
        "                                              #########  Classifiers Defination  #########\n",
        "                                              #============================================\n",
        "def ml_models_defination():\n",
        "    \"\"\"\n",
        "    This function consists the models defination for All gram Features\n",
        "\n",
        "    Retuns:\n",
        "        ml_models: list of models\n",
        "        model_names: list of model_names\n",
        "\n",
        "    \"\"\"\n",
        "\n",
        "    lr_model = LogisticRegression(random_state = 123)\n",
        "    dt_model = DecisionTreeClassifier(criterion = 'entropy', random_state = 0)\n",
        "    rf_model = RandomForestClassifier(n_estimators=100, criterion ='entropy', random_state = 0)\n",
        "    mnb_model = MultinomialNB(alpha=0.15)\n",
        "    knn_model = KNeighborsClassifier(n_neighbors=3, metric = 'minkowski')\n",
        "    lsvm_model = SVC(kernel = 'linear',C = 0.2, probability=True, random_state = 0)\n",
        "    ksvm_model = SVC(C= 1000,kernel = 'rbf',probability=True, gamma = 0.00015, random_state = 0)\n",
        "    model_names = ['Logistic Regression','Decision Tree','Random Forest','Naive Bayes','KNN','Linear SVM','Kernel SVM']\n",
        "    #model_names = ['Logistic Regression']\n",
        "    # Create list of models\n",
        "    ml_models = [lr_model,dt_model,rf_model,mnb_model,knn_model,lsvm_model,ksvm_model]\n",
        "    #ml_models = [lr_model]\n",
        "    return ml_models,model_names\n",
        "\n",
        "\n",
        "                                          #============================================\n",
        "                                           ####### Model Evaluation Function ############\n",
        "                                           #=============================================\n",
        "\n",
        "def model_performace(model,X_train,X_test,y_train,y_test):\n",
        "    \"\"\"\n",
        "    This function will return the performance parameter values of each ML models.\n",
        "    Performance parameters are Accuracy, F1-Score, Precision, Recall.\n",
        "\n",
        "    Args:\n",
        "        model: a ML model instance\n",
        "        X_train: training feature vector (sparse matrix)\n",
        "        X_test : testing feature vector (sparse matrix)\n",
        "        y_train: training encoded labels (array)\n",
        "        y_test : testing encoded labels (array)\n",
        "\n",
        "    Returns:\n",
        "        my_dict: a dictionary of all the parameters for each models\n",
        "    \"\"\"\n",
        "    my_dict = {}\n",
        "    model.fit(X_train,y_train)\n",
        "    # Prediction\n",
        "    pred_y = model.predict(X_test)\n",
        "    my_dict['Accuracy'] = round(accuracy_score(y_test, pred_y),4)*100\n",
        "    my_dict['Precision'] = round(precision_score(y_test, pred_y),4)*100\n",
        "    my_dict['Recall'] = round(recall_score(y_test, pred_y),4)*100\n",
        "    my_dict['F1 Score'] = round(f1_score(y_test, pred_y),4)*100\n",
        "\n",
        "    return my_dict\n",
        "\n",
        "                                        #========================================\n",
        "                                        #### Model Performane into Dataframe #####\n",
        "                                        #=========================================\n",
        "\n",
        "def performance_table(performance_dict):\n",
        "    \"\"\"\n",
        "    This function will create a dataframe of all the performance parameters.\n",
        "\n",
        "    Args:\n",
        "        performance_dict: a dictionary of all the parameters for each models\n",
        "\n",
        "    Returns:\n",
        "        performance_df: a dataframe\n",
        "    \"\"\"\n",
        "\n",
        "    acc_list = []\n",
        "    pr_list = []\n",
        "    re_list = []\n",
        "    f1_list = []\n",
        "    for i in performance_dict.keys():\n",
        "        acc_list.append(performance_dict[i]['Accuracy'])\n",
        "        pr_list.append(performance_dict[i]['Precision'])\n",
        "        re_list.append(performance_dict[i]['Recall'])\n",
        "        f1_list.append(performance_dict[i]['F1 Score'])\n",
        "\n",
        "    # Create a dataframe\n",
        "    model_names = ['LR','DT','RF','MNB','KNN','Linear SVM','RBF SVM']\n",
        "    performance_df = pd.DataFrame({'Accuracy':acc_list,'Precision':pr_list,\n",
        "                                   'Recall':re_list,'F1 Score':f1_list,\n",
        "                                   'Model Name':model_names })\n",
        "    return performance_df"
      ],
      "execution_count": null,
      "outputs": []
    },
    {
      "cell_type": "markdown",
      "metadata": {
        "id": "Fprji1HsbcmG"
      },
      "source": [
        "##Model Training"
      ]
    },
    {
      "cell_type": "code",
      "metadata": {
        "id": "x1niAeoCvGE9",
        "colab": {
          "base_uri": "https://localhost:8080/",
          "height": 536
        },
        "outputId": "103e2f71-c8a7-4bdd-83f1-754482f9236f"
      },
      "source": [
        "## save the performance of the model for each gram feature\n",
        "gram_names = ['Unigram','Bigram','Trigram']\n",
        "ngrams = [(1,1),(1,2),(1,3)]\n",
        "for i,gram in enumerate(ngrams):\n",
        "    tfidf,feature = calc_gram_tfidf(dataset.cleaned,gram)\n",
        "    labels = label_encoding(dataset.sentiment,False)\n",
        "    X_train,X_test,y_train,y_test= dataset_split(feature,labels)\n",
        "    ml_models,model_names = ml_models_defination()\n",
        "    # call model accuracy function and save the metrices into a dictionary\n",
        "    accuracy = {f'{model_names[j]}':model_performace(model,X_train,X_test,y_train,y_test) for j,model in enumerate(ml_models)}\n",
        "    #Save the performance parameter into json file\n",
        "    with open(path+f'ml_performance_{gram_names[i]}.json', 'w') as f:\n",
        "          json.dump(accuracy, f)"
      ],
      "execution_count": null,
      "outputs": [
        {
          "output_type": "stream",
          "name": "stdout",
          "text": [
            "Feature Size :======> 4307\n",
            "\n",
            "Dataset Distribution:\n",
            "\n",
            "\tSet Name \t\tSize\n",
            "\t========\t\t======\n",
            "\tFull\t\t\t 2006 \n",
            "\tTraining\t\t 1805 \n",
            "\tTest\t\t\t 201\n"
          ]
        },
        {
          "output_type": "error",
          "ename": "ValueError",
          "evalue": "ignored",
          "traceback": [
            "\u001b[0;31m---------------------------------------------------------------------------\u001b[0m",
            "\u001b[0;31mValueError\u001b[0m                                Traceback (most recent call last)",
            "\u001b[0;32m<ipython-input-30-42eb5ceb6b14>\u001b[0m in \u001b[0;36m<module>\u001b[0;34m()\u001b[0m\n\u001b[1;32m      8\u001b[0m     \u001b[0mml_models\u001b[0m\u001b[0;34m,\u001b[0m\u001b[0mmodel_names\u001b[0m \u001b[0;34m=\u001b[0m \u001b[0mml_models_defination\u001b[0m\u001b[0;34m(\u001b[0m\u001b[0;34m)\u001b[0m\u001b[0;34m\u001b[0m\u001b[0;34m\u001b[0m\u001b[0m\n\u001b[1;32m      9\u001b[0m     \u001b[0;31m# call model accuracy function and save the metrices into a dictionary\u001b[0m\u001b[0;34m\u001b[0m\u001b[0;34m\u001b[0m\u001b[0;34m\u001b[0m\u001b[0m\n\u001b[0;32m---> 10\u001b[0;31m     \u001b[0maccuracy\u001b[0m \u001b[0;34m=\u001b[0m \u001b[0;34m{\u001b[0m\u001b[0;34mf'{model_names[j]}'\u001b[0m\u001b[0;34m:\u001b[0m\u001b[0mmodel_performace\u001b[0m\u001b[0;34m(\u001b[0m\u001b[0mmodel\u001b[0m\u001b[0;34m,\u001b[0m\u001b[0mX_train\u001b[0m\u001b[0;34m,\u001b[0m\u001b[0mX_test\u001b[0m\u001b[0;34m,\u001b[0m\u001b[0my_train\u001b[0m\u001b[0;34m,\u001b[0m\u001b[0my_test\u001b[0m\u001b[0;34m)\u001b[0m \u001b[0;32mfor\u001b[0m \u001b[0mj\u001b[0m\u001b[0;34m,\u001b[0m\u001b[0mmodel\u001b[0m \u001b[0;32min\u001b[0m \u001b[0menumerate\u001b[0m\u001b[0;34m(\u001b[0m\u001b[0mml_models\u001b[0m\u001b[0;34m)\u001b[0m\u001b[0;34m}\u001b[0m\u001b[0;34m\u001b[0m\u001b[0;34m\u001b[0m\u001b[0m\n\u001b[0m\u001b[1;32m     11\u001b[0m     \u001b[0;31m#Save the performance parameter into json file\u001b[0m\u001b[0;34m\u001b[0m\u001b[0;34m\u001b[0m\u001b[0;34m\u001b[0m\u001b[0m\n\u001b[1;32m     12\u001b[0m     \u001b[0;32mwith\u001b[0m \u001b[0mopen\u001b[0m\u001b[0;34m(\u001b[0m\u001b[0mpath\u001b[0m\u001b[0;34m+\u001b[0m\u001b[0;34mf'ml_performance_{gram_names[i]}.json'\u001b[0m\u001b[0;34m,\u001b[0m \u001b[0;34m'w'\u001b[0m\u001b[0;34m)\u001b[0m \u001b[0;32mas\u001b[0m \u001b[0mf\u001b[0m\u001b[0;34m:\u001b[0m\u001b[0;34m\u001b[0m\u001b[0;34m\u001b[0m\u001b[0m\n",
            "\u001b[0;32m<ipython-input-30-42eb5ceb6b14>\u001b[0m in \u001b[0;36m<dictcomp>\u001b[0;34m(.0)\u001b[0m\n\u001b[1;32m      8\u001b[0m     \u001b[0mml_models\u001b[0m\u001b[0;34m,\u001b[0m\u001b[0mmodel_names\u001b[0m \u001b[0;34m=\u001b[0m \u001b[0mml_models_defination\u001b[0m\u001b[0;34m(\u001b[0m\u001b[0;34m)\u001b[0m\u001b[0;34m\u001b[0m\u001b[0;34m\u001b[0m\u001b[0m\n\u001b[1;32m      9\u001b[0m     \u001b[0;31m# call model accuracy function and save the metrices into a dictionary\u001b[0m\u001b[0;34m\u001b[0m\u001b[0;34m\u001b[0m\u001b[0;34m\u001b[0m\u001b[0m\n\u001b[0;32m---> 10\u001b[0;31m     \u001b[0maccuracy\u001b[0m \u001b[0;34m=\u001b[0m \u001b[0;34m{\u001b[0m\u001b[0;34mf'{model_names[j]}'\u001b[0m\u001b[0;34m:\u001b[0m\u001b[0mmodel_performace\u001b[0m\u001b[0;34m(\u001b[0m\u001b[0mmodel\u001b[0m\u001b[0;34m,\u001b[0m\u001b[0mX_train\u001b[0m\u001b[0;34m,\u001b[0m\u001b[0mX_test\u001b[0m\u001b[0;34m,\u001b[0m\u001b[0my_train\u001b[0m\u001b[0;34m,\u001b[0m\u001b[0my_test\u001b[0m\u001b[0;34m)\u001b[0m \u001b[0;32mfor\u001b[0m \u001b[0mj\u001b[0m\u001b[0;34m,\u001b[0m\u001b[0mmodel\u001b[0m \u001b[0;32min\u001b[0m \u001b[0menumerate\u001b[0m\u001b[0;34m(\u001b[0m\u001b[0mml_models\u001b[0m\u001b[0;34m)\u001b[0m\u001b[0;34m}\u001b[0m\u001b[0;34m\u001b[0m\u001b[0;34m\u001b[0m\u001b[0m\n\u001b[0m\u001b[1;32m     11\u001b[0m     \u001b[0;31m#Save the performance parameter into json file\u001b[0m\u001b[0;34m\u001b[0m\u001b[0;34m\u001b[0m\u001b[0;34m\u001b[0m\u001b[0m\n\u001b[1;32m     12\u001b[0m     \u001b[0;32mwith\u001b[0m \u001b[0mopen\u001b[0m\u001b[0;34m(\u001b[0m\u001b[0mpath\u001b[0m\u001b[0;34m+\u001b[0m\u001b[0;34mf'ml_performance_{gram_names[i]}.json'\u001b[0m\u001b[0;34m,\u001b[0m \u001b[0;34m'w'\u001b[0m\u001b[0;34m)\u001b[0m \u001b[0;32mas\u001b[0m \u001b[0mf\u001b[0m\u001b[0;34m:\u001b[0m\u001b[0;34m\u001b[0m\u001b[0;34m\u001b[0m\u001b[0m\n",
            "\u001b[0;32m<ipython-input-29-551f0e9bc577>\u001b[0m in \u001b[0;36mmodel_performace\u001b[0;34m(model, X_train, X_test, y_train, y_test)\u001b[0m\n\u001b[1;32m     51\u001b[0m     \u001b[0mpred_y\u001b[0m \u001b[0;34m=\u001b[0m \u001b[0mmodel\u001b[0m\u001b[0;34m.\u001b[0m\u001b[0mpredict\u001b[0m\u001b[0;34m(\u001b[0m\u001b[0mX_test\u001b[0m\u001b[0;34m)\u001b[0m\u001b[0;34m\u001b[0m\u001b[0;34m\u001b[0m\u001b[0m\n\u001b[1;32m     52\u001b[0m     \u001b[0mmy_dict\u001b[0m\u001b[0;34m[\u001b[0m\u001b[0;34m'Accuracy'\u001b[0m\u001b[0;34m]\u001b[0m \u001b[0;34m=\u001b[0m \u001b[0mround\u001b[0m\u001b[0;34m(\u001b[0m\u001b[0maccuracy_score\u001b[0m\u001b[0;34m(\u001b[0m\u001b[0my_test\u001b[0m\u001b[0;34m,\u001b[0m \u001b[0mpred_y\u001b[0m\u001b[0;34m)\u001b[0m\u001b[0;34m,\u001b[0m\u001b[0;36m4\u001b[0m\u001b[0;34m)\u001b[0m\u001b[0;34m*\u001b[0m\u001b[0;36m100\u001b[0m\u001b[0;34m\u001b[0m\u001b[0;34m\u001b[0m\u001b[0m\n\u001b[0;32m---> 53\u001b[0;31m     \u001b[0mmy_dict\u001b[0m\u001b[0;34m[\u001b[0m\u001b[0;34m'Precision'\u001b[0m\u001b[0;34m]\u001b[0m \u001b[0;34m=\u001b[0m \u001b[0mround\u001b[0m\u001b[0;34m(\u001b[0m\u001b[0mprecision_score\u001b[0m\u001b[0;34m(\u001b[0m\u001b[0my_test\u001b[0m\u001b[0;34m,\u001b[0m \u001b[0mpred_y\u001b[0m\u001b[0;34m)\u001b[0m\u001b[0;34m,\u001b[0m\u001b[0;36m4\u001b[0m\u001b[0;34m)\u001b[0m\u001b[0;34m*\u001b[0m\u001b[0;36m100\u001b[0m\u001b[0;34m\u001b[0m\u001b[0;34m\u001b[0m\u001b[0m\n\u001b[0m\u001b[1;32m     54\u001b[0m     \u001b[0mmy_dict\u001b[0m\u001b[0;34m[\u001b[0m\u001b[0;34m'Recall'\u001b[0m\u001b[0;34m]\u001b[0m \u001b[0;34m=\u001b[0m \u001b[0mround\u001b[0m\u001b[0;34m(\u001b[0m\u001b[0mrecall_score\u001b[0m\u001b[0;34m(\u001b[0m\u001b[0my_test\u001b[0m\u001b[0;34m,\u001b[0m \u001b[0mpred_y\u001b[0m\u001b[0;34m)\u001b[0m\u001b[0;34m,\u001b[0m\u001b[0;36m4\u001b[0m\u001b[0;34m)\u001b[0m\u001b[0;34m*\u001b[0m\u001b[0;36m100\u001b[0m\u001b[0;34m\u001b[0m\u001b[0;34m\u001b[0m\u001b[0m\n\u001b[1;32m     55\u001b[0m     \u001b[0mmy_dict\u001b[0m\u001b[0;34m[\u001b[0m\u001b[0;34m'F1 Score'\u001b[0m\u001b[0;34m]\u001b[0m \u001b[0;34m=\u001b[0m \u001b[0mround\u001b[0m\u001b[0;34m(\u001b[0m\u001b[0mf1_score\u001b[0m\u001b[0;34m(\u001b[0m\u001b[0my_test\u001b[0m\u001b[0;34m,\u001b[0m \u001b[0mpred_y\u001b[0m\u001b[0;34m)\u001b[0m\u001b[0;34m,\u001b[0m\u001b[0;36m4\u001b[0m\u001b[0;34m)\u001b[0m\u001b[0;34m*\u001b[0m\u001b[0;36m100\u001b[0m\u001b[0;34m\u001b[0m\u001b[0;34m\u001b[0m\u001b[0m\n",
            "\u001b[0;32m/usr/local/lib/python3.7/dist-packages/sklearn/metrics/_classification.py\u001b[0m in \u001b[0;36mprecision_score\u001b[0;34m(y_true, y_pred, labels, pos_label, average, sample_weight, zero_division)\u001b[0m\n\u001b[1;32m   1744\u001b[0m         \u001b[0mwarn_for\u001b[0m\u001b[0;34m=\u001b[0m\u001b[0;34m(\u001b[0m\u001b[0;34m\"precision\"\u001b[0m\u001b[0;34m,\u001b[0m\u001b[0;34m)\u001b[0m\u001b[0;34m,\u001b[0m\u001b[0;34m\u001b[0m\u001b[0;34m\u001b[0m\u001b[0m\n\u001b[1;32m   1745\u001b[0m         \u001b[0msample_weight\u001b[0m\u001b[0;34m=\u001b[0m\u001b[0msample_weight\u001b[0m\u001b[0;34m,\u001b[0m\u001b[0;34m\u001b[0m\u001b[0;34m\u001b[0m\u001b[0m\n\u001b[0;32m-> 1746\u001b[0;31m         \u001b[0mzero_division\u001b[0m\u001b[0;34m=\u001b[0m\u001b[0mzero_division\u001b[0m\u001b[0;34m,\u001b[0m\u001b[0;34m\u001b[0m\u001b[0;34m\u001b[0m\u001b[0m\n\u001b[0m\u001b[1;32m   1747\u001b[0m     )\n\u001b[1;32m   1748\u001b[0m     \u001b[0;32mreturn\u001b[0m \u001b[0mp\u001b[0m\u001b[0;34m\u001b[0m\u001b[0;34m\u001b[0m\u001b[0m\n",
            "\u001b[0;32m/usr/local/lib/python3.7/dist-packages/sklearn/metrics/_classification.py\u001b[0m in \u001b[0;36mprecision_recall_fscore_support\u001b[0;34m(y_true, y_pred, beta, labels, pos_label, average, warn_for, sample_weight, zero_division)\u001b[0m\n\u001b[1;32m   1532\u001b[0m     \u001b[0;32mif\u001b[0m \u001b[0mbeta\u001b[0m \u001b[0;34m<\u001b[0m \u001b[0;36m0\u001b[0m\u001b[0;34m:\u001b[0m\u001b[0;34m\u001b[0m\u001b[0;34m\u001b[0m\u001b[0m\n\u001b[1;32m   1533\u001b[0m         \u001b[0;32mraise\u001b[0m \u001b[0mValueError\u001b[0m\u001b[0;34m(\u001b[0m\u001b[0;34m\"beta should be >=0 in the F-beta score\"\u001b[0m\u001b[0;34m)\u001b[0m\u001b[0;34m\u001b[0m\u001b[0;34m\u001b[0m\u001b[0m\n\u001b[0;32m-> 1534\u001b[0;31m     \u001b[0mlabels\u001b[0m \u001b[0;34m=\u001b[0m \u001b[0m_check_set_wise_labels\u001b[0m\u001b[0;34m(\u001b[0m\u001b[0my_true\u001b[0m\u001b[0;34m,\u001b[0m \u001b[0my_pred\u001b[0m\u001b[0;34m,\u001b[0m \u001b[0maverage\u001b[0m\u001b[0;34m,\u001b[0m \u001b[0mlabels\u001b[0m\u001b[0;34m,\u001b[0m \u001b[0mpos_label\u001b[0m\u001b[0;34m)\u001b[0m\u001b[0;34m\u001b[0m\u001b[0;34m\u001b[0m\u001b[0m\n\u001b[0m\u001b[1;32m   1535\u001b[0m \u001b[0;34m\u001b[0m\u001b[0m\n\u001b[1;32m   1536\u001b[0m     \u001b[0;31m# Calculate tp_sum, pred_sum, true_sum ###\u001b[0m\u001b[0;34m\u001b[0m\u001b[0;34m\u001b[0m\u001b[0;34m\u001b[0m\u001b[0m\n",
            "\u001b[0;32m/usr/local/lib/python3.7/dist-packages/sklearn/metrics/_classification.py\u001b[0m in \u001b[0;36m_check_set_wise_labels\u001b[0;34m(y_true, y_pred, average, labels, pos_label)\u001b[0m\n\u001b[1;32m   1355\u001b[0m             raise ValueError(\n\u001b[1;32m   1356\u001b[0m                 \u001b[0;34m\"Target is %s but average='binary'. Please \"\u001b[0m\u001b[0;34m\u001b[0m\u001b[0;34m\u001b[0m\u001b[0m\n\u001b[0;32m-> 1357\u001b[0;31m                 \u001b[0;34m\"choose another average setting, one of %r.\"\u001b[0m \u001b[0;34m%\u001b[0m \u001b[0;34m(\u001b[0m\u001b[0my_type\u001b[0m\u001b[0;34m,\u001b[0m \u001b[0maverage_options\u001b[0m\u001b[0;34m)\u001b[0m\u001b[0;34m\u001b[0m\u001b[0;34m\u001b[0m\u001b[0m\n\u001b[0m\u001b[1;32m   1358\u001b[0m             )\n\u001b[1;32m   1359\u001b[0m     \u001b[0;32melif\u001b[0m \u001b[0mpos_label\u001b[0m \u001b[0;32mnot\u001b[0m \u001b[0;32min\u001b[0m \u001b[0;34m(\u001b[0m\u001b[0;32mNone\u001b[0m\u001b[0;34m,\u001b[0m \u001b[0;36m1\u001b[0m\u001b[0;34m)\u001b[0m\u001b[0;34m:\u001b[0m\u001b[0;34m\u001b[0m\u001b[0;34m\u001b[0m\u001b[0m\n",
            "\u001b[0;31mValueError\u001b[0m: Target is multiclass but average='binary'. Please choose another average setting, one of [None, 'micro', 'macro', 'weighted']."
          ]
        }
      ]
    },
    {
      "cell_type": "markdown",
      "metadata": {
        "id": "adgILEqHbWwu"
      },
      "source": [
        "##Performance Table"
      ]
    },
    {
      "cell_type": "code",
      "metadata": {
        "id": "EgXI9CKywYGi"
      },
      "source": [
        "# Load all the json files\n",
        "gram_names = ['Unigram','Bigram','Trigram']\n",
        "\n",
        "for gram in gram_names:\n",
        "  accuracy = json.load(open(path+f'ml_performance_{gram}.json'))\n",
        "  table = performance_table(accuracy)\n",
        "  print(f\"\\n========== Performace Table for {gram} feature:========\\n\",table)\n",
        "  print(f\"\\n========In case of {gram} feature:========\\n\")\n",
        "  print(f\"Highest Accuracy achieved by {table['Model Name'][table.Accuracy.idxmax(axis = 0)]} at = {max(table.Accuracy)}\")\n",
        "  print(f\"Highest F1-Score achieved by {table['Model Name'][table['F1 Score'].idxmax(axis = 0)]} at = {max(table['F1 Score'] )}\")\n",
        "  print(f\"Highest Precision Score achieved by {table['Model Name'][table['Precision'].idxmax(axis = 0)]} at = {max(table['Precision'] )}\")\n",
        "  print(f\"Highest Recall Score achieved by {table['Model Name'][table['Recall'].idxmax(axis = 0)]} at = {max(table['Recall'] )}\")\n",
        ""
      ],
      "execution_count": null,
      "outputs": []
    },
    {
      "cell_type": "markdown",
      "metadata": {
        "id": "ikQHi7EdqfuN"
      },
      "source": [
        "**Conclusion:**\n",
        "\n",
        "---\n",
        "\n",
        "\n",
        "\n",
        "***From this performance table it can be said that the Trigarm feature combination with Multinomial Naive Bayes classifier provides highest accuray and F1-score value.***"
      ]
    },
    {
      "cell_type": "markdown",
      "metadata": {
        "id": "6Y7pmQhdaED5"
      },
      "source": [
        "## Performance Visualization"
      ]
    },
    {
      "cell_type": "code",
      "metadata": {
        "id": "iu3tiCZY0IPq"
      },
      "source": [
        "gram_names = ['Unigram','Bigram','Trigram']\n",
        "\n",
        "for gram in gram_names:\n",
        "  accuracy = json.load(open(path+f'ml_performance_{gram}.json'))\n",
        "  table = performance_table(accuracy)\n",
        "  df = pd.melt(table[['Accuracy','F1 Score','Model Name']], id_vars=\"Model Name\", var_name=\"Category\", value_name=\"Values\")\n",
        "  plt.figure(figsize=(8,6))\n",
        "  ax = plt.subplot()\n",
        "  sns.barplot(data=df,x='Model Name', y='Values' ,hue='Category')\n",
        "  ax.set_xlabel('Model Name')\n",
        "  ax.set_title(f'Comparison of Accuracy and F1-Score Value for {gram} Feature')\n",
        "  ax.set_ylim([10,80])\n",
        "  ax.xaxis.set_ticklabels(table['Model Name'], rotation=45);"
      ],
      "execution_count": null,
      "outputs": []
    }
  ]
}